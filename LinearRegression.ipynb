{
 "cells": [
  {
   "cell_type": "code",
   "execution_count": 17,
   "metadata": {},
   "outputs": [],
   "source": [
    "import numpy as np\n",
    "import matplotlib.pyplot as plt\n",
    "\n",
    "def compute_error(b,m,points):\n",
    "    totalError = 0\n",
    "    for i in range (0, len(points)):\n",
    "        x = points[i, 0]\n",
    "        y = points[i, 1]\n",
    "        totalError += (y-(m*x + b)) ** 2\n",
    "    return totalError/ float(len(points))\n"
   ]
  },
  {
   "cell_type": "code",
   "execution_count": 18,
   "metadata": {},
   "outputs": [],
   "source": [
    "def gradient_decent(points, learning_rate, iterations):\n",
    "    b_current = 0\n",
    "    m_current = 0\n",
    "    for j in range(iterations):\n",
    "        b_gradient = 0\n",
    "        m_gradient = 0\n",
    "        N = float(len(points))\n",
    "        \n",
    "        for i in range(0, len(points)):\n",
    "            x,y = points[i, 0], points[i, 1]\n",
    "            b_gradient += -(2/N) * (y - (m_current * x + b_current))\n",
    "            m_gradient += -(2/N) * x * (y - (m_current * x + b_current))\n",
    "        \n",
    "        b_current = b_current - (learning_rate * b_gradient)\n",
    "        m_current = m_current - (learning_rate * m_gradient)\n",
    "    return [b_current,m_current]\n"
   ]
  },
  {
   "cell_type": "code",
   "execution_count": 19,
   "metadata": {},
   "outputs": [],
   "source": [
    "def gd_runner(step_size, iteration, points):\n",
    "    return gradient_decent(points, step_size, iterations)"
   ]
  },
  {
   "cell_type": "code",
   "execution_count": 20,
   "metadata": {},
   "outputs": [],
   "source": [
    "def split(points):\n",
    "    x = []\n",
    "    y = []\n",
    "    for i in range (0, len(points)):\n",
    "        x.append(points[i, 0])\n",
    "        y.append(points[i, 1])\n",
    "    return x, y"
   ]
  },
  {
   "cell_type": "code",
   "execution_count": 21,
   "metadata": {},
   "outputs": [
    {
     "ename": "NameError",
     "evalue": "name 'x_points' is not defined",
     "output_type": "error",
     "traceback": [
      "\u001b[0;31m---------------------------------------------------------------------------\u001b[0m",
      "\u001b[0;31mNameError\u001b[0m                                 Traceback (most recent call last)",
      "\u001b[0;32m<ipython-input-21-c2ef5c9aee95>\u001b[0m in \u001b[0;36m<module>\u001b[0;34m\u001b[0m\n\u001b[1;32m      4\u001b[0m \u001b[0;31m# We are running through Gradient Decent here\u001b[0m\u001b[0;34m\u001b[0m\u001b[0;34m\u001b[0m\u001b[0m\n\u001b[1;32m      5\u001b[0m \u001b[0mb\u001b[0m\u001b[0;34m,\u001b[0m\u001b[0mm\u001b[0m \u001b[0;34m=\u001b[0m \u001b[0mgd_runner\u001b[0m\u001b[0;34m(\u001b[0m\u001b[0mstep_size\u001b[0m\u001b[0;34m,\u001b[0m \u001b[0miterations\u001b[0m\u001b[0;34m,\u001b[0m \u001b[0mpoints\u001b[0m\u001b[0;34m)\u001b[0m\u001b[0;34m;\u001b[0m\u001b[0;34m\u001b[0m\u001b[0m\n\u001b[0;32m----> 6\u001b[0;31m \u001b[0mbest_fit_line\u001b[0m \u001b[0;34m=\u001b[0m \u001b[0;34m[\u001b[0m\u001b[0;34m(\u001b[0m\u001b[0mm\u001b[0m\u001b[0;34m*\u001b[0m\u001b[0mx\u001b[0m\u001b[0;34m)\u001b[0m\u001b[0;34m+\u001b[0m\u001b[0mb\u001b[0m \u001b[0;32mfor\u001b[0m \u001b[0mx\u001b[0m \u001b[0;32min\u001b[0m \u001b[0mx_points\u001b[0m\u001b[0;34m]\u001b[0m\u001b[0;34m\u001b[0m\u001b[0m\n\u001b[0m\u001b[1;32m      7\u001b[0m \u001b[0;34m\u001b[0m\u001b[0m\n\u001b[1;32m      8\u001b[0m \u001b[0mx_points\u001b[0m\u001b[0;34m,\u001b[0m \u001b[0my_points\u001b[0m \u001b[0;34m=\u001b[0m \u001b[0msplit\u001b[0m\u001b[0;34m(\u001b[0m\u001b[0mpoints\u001b[0m\u001b[0;34m)\u001b[0m\u001b[0;34m\u001b[0m\u001b[0m\n",
      "\u001b[0;31mNameError\u001b[0m: name 'x_points' is not defined"
     ]
    }
   ],
   "source": [
    "points = np.genfromtxt('./data/data.csv', delimiter=',')\n",
    "step_size,iterations = 0.0001,10000\n",
    "\n",
    "# We are running through Gradient Decent here\n",
    "b,m = gd_runner(step_size, iterations, points);\n",
    "best_fit_line = [(m*x)+b for x in x_points]\n",
    "\n",
    "x_points, y_points = split(points)\n",
    "\n",
    "plt.scatter(x_points, y_points,color='grey',label='data')\n",
    "plt.plot(x_points,best_fit_line,color='green')\n",
    "plt.show()"
   ]
  },
  {
   "cell_type": "code",
   "execution_count": null,
   "metadata": {},
   "outputs": [],
   "source": []
  },
  {
   "cell_type": "code",
   "execution_count": null,
   "metadata": {},
   "outputs": [],
   "source": []
  }
 ],
 "metadata": {
  "kernelspec": {
   "display_name": "Python 3",
   "language": "python",
   "name": "python3"
  },
  "language_info": {
   "codemirror_mode": {
    "name": "ipython",
    "version": 3
   },
   "file_extension": ".py",
   "mimetype": "text/x-python",
   "name": "python",
   "nbconvert_exporter": "python",
   "pygments_lexer": "ipython3",
   "version": "3.6.5"
  }
 },
 "nbformat": 4,
 "nbformat_minor": 2
}
