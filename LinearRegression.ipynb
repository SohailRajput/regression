{
 "cells": [
  {
   "cell_type": "code",
   "execution_count": 95,
   "metadata": {},
   "outputs": [],
   "source": [
    "import numpy as np\n",
    "import matplotlib.pyplot as plt\n",
    "\n",
    "def compute_error(b,m,points):\n",
    "    totalError = 0\n",
    "    for i in range (0, len(points)):\n",
    "        x = points[i, 0]\n",
    "        y = points[i, 1]\n",
    "        totalError += (y-(m*x + b)) ** 2\n",
    "    return totalError/ float(len(points))\n"
   ]
  },
  {
   "cell_type": "code",
   "execution_count": 96,
   "metadata": {},
   "outputs": [],
   "source": [
    "def gradient_decent(points, learning_rate, iterations):\n",
    "    b_current = 0\n",
    "    m_current = 0\n",
    "    for i in range(iterations):\n",
    "        b_gradient = 0\n",
    "        m_gradient = 0\n",
    "        N = float(len(points))\n",
    "        \n",
    "        for i in range(0, len(points)):\n",
    "            x = points[i, 0]\n",
    "            y = points[i, 1]\n",
    "            b_gradient += -(2/N) * (y - (m_current * x + b_current))\n",
    "            m_gradient += -(2/N) * x * (y - (m_current * x + b_current))\n",
    "        \n",
    "        b_current = b_current - (learning_rate * b_gradient)\n",
    "        m_current = m_current - (learning_rate * m_gradient)\n",
    "    return [b_current,m_current]\n"
   ]
  },
  {
   "cell_type": "code",
   "execution_count": 97,
   "metadata": {},
   "outputs": [],
   "source": [
    "def gd_runner(step_size, iteration, points):\n",
    "    return gradient_decent(points, step_size, iterations)"
   ]
  },
  {
   "cell_type": "code",
   "execution_count": 98,
   "metadata": {},
   "outputs": [],
   "source": [
    "def split(points):\n",
    "    x = []\n",
    "    y = []\n",
    "    for i in range (0, len(points)):\n",
    "        x.append(points[i, 0])\n",
    "        y.append(points[i, 1])\n",
    "    return x, y"
   ]
  },
  {
   "cell_type": "code",
   "execution_count": 104,
   "metadata": {},
   "outputs": [
    {
     "data": {
      "image/png": "[encoded data removed]",
      "text/plain": [
       "<Figure size 432x288 with 1 Axes>"
      ]
     },
     "metadata": {
      "needs_background": "light"
     },
     "output_type": "display_data"
    }
   ],
   "source": [
    "points = np.genfromtxt('./data/data.csv', delimiter=',')\n",
    "step_size,iterations = 0.0001,10000\n",
    "\n",
    "# We are running through Gradient Decent here\n",
    "b,m = gd_runner(step_size, iterations, points);\n",
    "best_fit_line = [(m*x)+b for x in x_points]\n",
    "\n",
    "x_points, y_points = split(points)\n",
    "\n",
    "plt.scatter(x_points, y_points,color='grey',label='data')\n",
    "plt.plot(x_points,best_fit_line,color='green')\n",
    "plt.show()"
   ]
  },
  {
   "cell_type": "code",
   "execution_count": null,
   "metadata": {},
   "outputs": [],
   "source": []
  },
  {
   "cell_type": "code",
   "execution_count": null,
   "metadata": {},
   "outputs": [],
   "source": []
  }
 ],
 "metadata": {
  "kernelspec": {
   "display_name": "Python 3",
   "language": "python",
   "name": "python3"
  },
  "language_info": {
   "codemirror_mode": {
    "name": "ipython",
    "version": 3
   },
   "file_extension": ".py",
   "mimetype": "text/x-python",
   "name": "python",
   "nbconvert_exporter": "python",
   "pygments_lexer": "ipython3",
   "version": "3.6.5"
  }
 },
 "nbformat": 4,
 "nbformat_minor": 2
}
