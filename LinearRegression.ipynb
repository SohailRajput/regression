{
 "cells": [
  {
   "cell_type": "code",
   "execution_count": 89,
   "metadata": {},
   "outputs": [],
   "source": [
    "import numpy as np\n",
    "import matplotlib.pyplot as plt"
   ]
  },
  {
   "cell_type": "code",
   "execution_count": 95,
   "metadata": {},
   "outputs": [],
   "source": [
    "def gradient_decent(x_points, y_points, learning_rate, iterations):\n",
    "    b_current, m_current = 0, 0\n",
    "    b_convergence, m_convergence = [], []\n",
    "    for j in range(iterations):\n",
    "        b_gradient = 0\n",
    "        m_gradient = 0\n",
    "        N = float(len(x_points))\n",
    "        \n",
    "        for x, y in zip(x_points, y_points):\n",
    "            b_gradient += -(2/N) * (y - (m_current * x + b_current))\n",
    "            m_gradient += -(2/N) * x * (y - (m_current * x + b_current))\n",
    "        \n",
    "        b_current = b_current - (learning_rate * b_gradient)\n",
    "        m_current = m_current - (learning_rate * m_gradient)\n",
    "        b_convergence.append(b_current)\n",
    "        m_convergence.append(m_current)\n",
    "    return [b_current,m_current, b_convergence, m_convergence]\n"
   ]
  },
  {
   "cell_type": "code",
   "execution_count": 96,
   "metadata": {},
   "outputs": [],
   "source": [
    "def gd_runner(step_size, iteration,  x_points, y_points):\n",
    "    return gradient_decent(x_points, y_points, step_size, iteration)"
   ]
  },
  {
   "cell_type": "code",
   "execution_count": 97,
   "metadata": {},
   "outputs": [],
   "source": [
    "def split(points):\n",
    "    x = []\n",
    "    y = []\n",
    "    for i in range (0, len(points)):\n",
    "        x.append(points[i, 0])\n",
    "        y.append(points[i, 1])\n",
    "    return x, y"
   ]
  },
  {
   "cell_type": "code",
   "execution_count": 103,
   "metadata": {},
   "outputs": [
    {
     "data": {
      "image/png": "[encoded data removed]",
      "text/plain": [
       "<Figure size 432x288 with 1 Axes>"
      ]
     },
     "metadata": {
      "needs_background": "light"
     },
     "output_type": "display_data"
    }
   ],
   "source": [
    "data = np.genfromtxt('./data/data.csv', delimiter=',')\n",
    "x_points, y_points = split(data)\n",
    "step_size,iterations = 0.0001,20\n",
    "\n",
    "# We are running through Gradient Decent here\n",
    "b,m,b_convergence,m_convergence = gd_runner(step_size, iterations, x_points, y_points);\n",
    "best_fit_line = [(m*x)+b for x in x_points]\n",
    "\n",
    "plt.scatter(x_points, y_points,color='blue',label='data')\n",
    "plt.plot(x_points,best_fit_line,color='orange')\n",
    "plt.show()"
   ]
  },
  {
   "cell_type": "code",
   "execution_count": 104,
   "metadata": {},
   "outputs": [
    {
     "data": {
      "image/png": "[encoded data removed]",
      "text/plain": [
       "<Figure size 432x288 with 1 Axes>"
      ]
     },
     "metadata": {
      "needs_background": "light"
     },
     "output_type": "display_data"
    }
   ],
   "source": [
    "# Plogttig Convergence\n",
    "plt.scatter(b_convergence, m_convergence,color='red',label='data')\n",
    "plt.show()"
   ]
  },
  {
   "cell_type": "code",
   "execution_count": 105,
   "metadata": {},
   "outputs": [],
   "source": [
    "test_x = [22.2332,56.2332]\n",
    "test_y = [44.4545,68.2332]"
   ]
  },
  {
   "cell_type": "code",
   "execution_count": 106,
   "metadata": {},
   "outputs": [],
   "source": [
    "predictions = [( m * x ) + b for x in test_x]"
   ]
  },
  {
   "cell_type": "code",
   "execution_count": 107,
   "metadata": {},
   "outputs": [
    {
     "data": {
      "image/png": "[encoded data removed]",
      "text/plain": [
       "<Figure size 432x288 with 1 Axes>"
      ]
     },
     "metadata": {
      "needs_background": "light"
     },
     "output_type": "display_data"
    }
   ],
   "source": [
    "plt.scatter(x_points, y_points,color='blue',label='data')\n",
    "plt.plot(x_points,best_fit_line,color='orange')\n",
    "\n",
    "# Plotting actual points\n",
    "plt.scatter(test_x,test_y,color='magenta')\n",
    "\n",
    "# Plotting predicted points\n",
    "plt.scatter(test_x,predictions,color='red')\n",
    "\n",
    "plt.show()"
   ]
  },
  {
   "cell_type": "code",
   "execution_count": null,
   "metadata": {},
   "outputs": [],
   "source": []
  },
  {
   "cell_type": "code",
   "execution_count": null,
   "metadata": {},
   "outputs": [],
   "source": []
  },
  {
   "cell_type": "code",
   "execution_count": null,
   "metadata": {},
   "outputs": [],
   "source": []
  },
  {
   "cell_type": "code",
   "execution_count": null,
   "metadata": {},
   "outputs": [],
   "source": []
  }
 ],
 "metadata": {
  "kernelspec": {
   "display_name": "Python 3",
   "language": "python",
   "name": "python3"
  },
  "language_info": {
   "codemirror_mode": {
    "name": "ipython",
    "version": 3
   },
   "file_extension": ".py",
   "mimetype": "text/x-python",
   "name": "python",
   "nbconvert_exporter": "python",
   "pygments_lexer": "ipython3",
   "version": "3.6.5"
  }
 },
 "nbformat": 4,
 "nbformat_minor": 2
}
